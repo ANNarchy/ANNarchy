{
 "cells": [
  {
   "cell_type": "markdown",
   "metadata": {},
   "source": [
    "# Structural plasticity"
   ]
  },
  {
   "cell_type": "markdown",
   "metadata": {},
   "source": [
    "As simple example showing how to use structural plasticity (creation/pruning of synapses) in a rate-coded network (spiking networks work similarly).\n",
    "\n",
    "First, the structural plasticity mechanisms must be allowed in `setup()`:"
   ]
  },
  {
   "cell_type": "code",
   "execution_count": 1,
   "metadata": {
    "collapsed": false
   },
   "outputs": [
    {
     "name": "stdout",
     "output_type": "stream",
     "text": [
      "ANNarchy 4.6 (4.6.0b) on linux (posix). \n"
     ]
    }
   ],
   "source": [
    "from ANNarchy import *\n",
    "clear()\n",
    "\n",
    "# Compulsory to allow structural plasticity\n",
    "setup(structural_plasticity=True)"
   ]
  },
  {
   "cell_type": "markdown",
   "metadata": {},
   "source": [
    "We define a leaky integrator rate-coded neuron and a small population: "
   ]
  },
  {
   "cell_type": "code",
   "execution_count": 2,
   "metadata": {
    "collapsed": true
   },
   "outputs": [],
   "source": [
    "LeakyIntegratorNeuron = Neuron(\n",
    "    parameters=\"\"\"\n",
    "        tau = 10.0 : population\n",
    "        baseline = 0.0 \n",
    "    \"\"\",\n",
    "    equations = \"\"\"\n",
    "        tau * dr/dt + r = baseline + sum(exc) : min=0.0\n",
    "    \"\"\"\n",
    ")\n",
    "pop = Population(100, LeakyIntegratorNeuron)"
   ]
  },
  {
   "cell_type": "markdown",
   "metadata": {},
   "source": [
    "Structural plasticity has two components: creation of synapses and pruning (removal) under certain conditions. These conditions are defined in the synapse type itself in the `pruning` and `creating` arguments: "
   ]
  },
  {
   "cell_type": "code",
   "execution_count": 3,
   "metadata": {
    "collapsed": false
   },
   "outputs": [
    {
     "data": {
      "text/plain": [
       "<ANNarchy.core.Projection.Projection at 0x7f82b5638908>"
      ]
     },
     "execution_count": 3,
     "metadata": {},
     "output_type": "execute_result"
    }
   ],
   "source": [
    "StructuralPlasticSynapse = Synapse(\n",
    "    parameters = \" T = 10000 : int, projection \",\n",
    "    equations = \"\"\"\n",
    "        age = if pre.r * post.r > 1.0 :\n",
    "                0\n",
    "              else :\n",
    "                age + 1 : init = 0, int\"\"\",\n",
    "    pruning = \"age > T : proba = 0.2\",\n",
    "    creating = \"pre.r * post.r > 1.0 : proba = 0.1, w = 0.01\",\n",
    ")\n",
    "\n",
    "proj = Projection(pop, pop, 'exc', StructuralPlasticSynapse)\n",
    "proj.connect_fixed_probability(weights = 0.01, probability=0.1)"
   ]
  },
  {
   "cell_type": "markdown",
   "metadata": {},
   "source": [
    "These conditions must be boolean values, which when `True` may trigger the creation/pruning of a synapse. The flag `proba` gives the probability by which the synapse will actually be created/pruned.\n",
    "\n",
    "* When `creating` is `True`, a synapse that did not exist will be created with the provided probability. Its weight will take the value provided by the flag `w` (0.01), the other variables take their default value.\n",
    "* When `pruning` is `True`, a synapse that exists will be deleted with the given probability.\n",
    "\n",
    "The `pruning` condition can depend on any pre-synaptic, post-synaptic or synaptic variable. The `creating` condition can only depend on pre- or post-synaptic conditions, as the synapse does not exist yet.\n",
    "\n",
    "Apart from these two fields, the synapse is a regular synapse, one could also define synaptic plasticity mechanisms and so on.\n",
    "\n",
    "We finally create a sparse projection within the population, with 10% connectivity."
   ]
  },
  {
   "cell_type": "code",
   "execution_count": 4,
   "metadata": {
    "collapsed": true
   },
   "outputs": [],
   "source": [
    "compile()"
   ]
  },
  {
   "cell_type": "markdown",
   "metadata": {},
   "source": [
    "The creation and pruning have to be explicitly started before a simulation, as they are very expensive computationally. The `period` argument states how often the conditions will be checked (avoid using `dt`):"
   ]
  },
  {
   "cell_type": "code",
   "execution_count": 5,
   "metadata": {
    "collapsed": true
   },
   "outputs": [],
   "source": [
    "proj.start_creating(period=100.0)\n",
    "proj.start_pruning(period=100.0)"
   ]
  },
  {
   "cell_type": "markdown",
   "metadata": {},
   "source": [
    "To see the effect of structural plasticity, one alternatively activates one half of the population by setting a high baseline (mimicking corrrelated inputs). As neurons in one half will be activated at the same time, they will create synapses between each other. Between the two halves, the neurons are never co-activated, so the existing synapses will slowly die out.  "
   ]
  },
  {
   "cell_type": "code",
   "execution_count": 6,
   "metadata": {
    "collapsed": true
   },
   "outputs": [],
   "source": [
    "# Save the initial connectivity matrix\n",
    "initial_weights = proj.connectivity_matrix()\n",
    "\n",
    "# Let structural plasticity over several trials\n",
    "num_trials = 100\n",
    "for trial in range(num_trials):\n",
    "    # Activate the first subpopulation\n",
    "    pop[:50].baseline = 1.0\n",
    "    # Simulate for 1s\n",
    "    simulate(1000.)\n",
    "    # Reset the population\n",
    "    pop.baseline = 0.0\n",
    "    simulate(100.)\n",
    "    # Activate the second subpopulation\n",
    "    pop[50:].baseline = 1.0\n",
    "    # Simulate for 1s\n",
    "    simulate(1000.)\n",
    "    # Reset the population\n",
    "    pop.baseline = 0.0\n",
    "    simulate(100.)\n",
    "\n",
    "# Inspect the final connectivity matrix\n",
    "final_weights = proj.connectivity_matrix()"
   ]
  },
  {
   "cell_type": "markdown",
   "metadata": {},
   "source": [
    "We can check the effect of structural plasticity by looking at the connectivity matrix before and after the stimulation:"
   ]
  },
  {
   "cell_type": "code",
   "execution_count": 7,
   "metadata": {
    "collapsed": false
   },
   "outputs": [
    {
     "data": {
      "image/png": "[encoded data removed]",
      "text/plain": [
       "<matplotlib.figure.Figure at 0x7f828d273cc0>"
      ]
     },
     "metadata": {},
     "output_type": "display_data"
    }
   ],
   "source": [
    "import matplotlib\n",
    "import matplotlib.pyplot as plt\n",
    "matplotlib.rcParams['figure.figsize'] = (20.0, 15.0)\n",
    "\n",
    "plt.subplot(121)\n",
    "plt.imshow(initial_weights)\n",
    "plt.title('Connectivity matrix before')\n",
    "plt.subplot(122)\n",
    "plt.imshow(final_weights)\n",
    "plt.title('Connectivity matrix after')\n",
    "plt.show()"
   ]
  }
 ],
 "metadata": {
  "kernelspec": {
   "display_name": "Python 3",
   "language": "python",
   "name": "python3"
  },
  "language_info": {
   "codemirror_mode": {
    "name": "ipython",
    "version": 3
   },
   "file_extension": ".py",
   "mimetype": "text/x-python",
   "name": "python",
   "nbconvert_exporter": "python",
   "pygments_lexer": "ipython3",
   "version": "3.6.0"
  }
 },
 "nbformat": 4,
 "nbformat_minor": 2
}
