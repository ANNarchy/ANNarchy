{
 "cells": [
  {
   "cell_type": "markdown",
   "metadata": {},
   "source": [
    "# Neural Field"
   ]
  },
  {
   "cell_type": "markdown",
   "metadata": {},
   "source": [
    "The folder `examples/neural_field` contains a simple rate-coded model using [Neural Fields](http://www.scholarpedia.org/article/Neural_fields). It consists of two 2D populations `inp` and `focus`, with one-to-one connections between `inp` and `focus`, and Difference-of-Gaussians (DoG) lateral connections within `focus`.\n",
    "\n",
    "If you have PyQtGraph and python-openGL installed, you can simply try the network by typing:\n",
    "\n",
    "~~~\n",
    "python NeuralField.py\n",
    "~~~"
   ]
  },
  {
   "cell_type": "markdown",
   "metadata": {},
   "source": [
    "## Model overview"
   ]
  },
  {
   "cell_type": "markdown",
   "metadata": {},
   "source": [
    "Each population consists of N\\*N neurons, with N=20. The `inp` population is solely used to represent inputs for `focus`. The firing rate of each neuron is defined by a simple equation:\n",
    "\n",
    "$$r_i(t) = (\\text{baseline}_i(t) + \\eta(t))^+$$\n",
    "\n",
    "where $r_i(t)$ is the instantaneous firing rate, $\\text{baseline}_i(t)$ its baseline activity, $\\eta(t)$ an additive\n",
    "noise uniformly taken in $[-0.5, 0.5]$ and $()^+$ the positive function.\n",
    "\n",
    "The `focus` population implements a discretized neural field, with neurons following the ODE:\n",
    "\n",
    "$$\\tau \\frac{d r_i(t)}{dt} + r_i(t) = r^\\text{input}_i(t) + \\sum_{j=1}^{N} w_{j, i} \\cdot r_j(t) + \\eta(t)$$\n",
    "\n",
    "where $r_i(t)$ is the neuron's firing rate, $\\tau$ a time constant and $w_{j, i}$ the weight\n",
    "value (synaptic efficiency) of the synapse between the neurons j and i.\n",
    "$f()$ is a semi-linear function, ensuring the firing rate is bounded between 0 and 1.\n",
    "\n",
    "Each neuron in `focus` takes inputs from the neuron of `inp` which has\n",
    "the same position, leading to a `one_to_one` connection pattern.\n",
    "\n",
    "The lateral connections within `focus` follow a difference-of-Gaussians (`dog`) connection pattern, with the connection weights $w_{i,j}$ depending on the normalized euclidian distance between the neurons in the N\\*N population:\n",
    "\n",
    "$$w_{j, i} = A^+ \\cdot \\exp(-\\frac{1}{2}\\frac{d(i, j)^2}{\\sigma_+^2}) -  A^- \\cdot \\exp(-\\frac{1}{2}\\frac{d(i, j)^2}{\\sigma_-^2})$$\n",
    "\n",
    "If i and j have coordinates $(x_i, y_i)$ and $(x_j, y_j)$ in the N\\*N\n",
    "space, the distance between them is computed as:\n",
    "\n",
    "$$d(i, j)^2 = (\\frac{x_i - x_j}{N})^2 + (\\frac{y_i - y_j}{N})^2$$\n",
    "\n",
    "Inputs are given to the network by changing the baseline of `inp` neurons. This example clamps one or several gaussian profiles (called \"bubbles\") with an additive noise, moving along a circular path at a certain speed (launch the example to understand this sentence...)."
   ]
  },
  {
   "cell_type": "markdown",
   "metadata": {},
   "source": [
    "## Importing ANNarchy"
   ]
  },
  {
   "cell_type": "markdown",
   "metadata": {},
   "source": [
    "The beginning of the script solely consists of importing the ANNarchy library:"
   ]
  },
  {
   "cell_type": "code",
   "execution_count": 1,
   "metadata": {
    "collapsed": false
   },
   "outputs": [
    {
     "name": "stdout",
     "output_type": "stream",
     "text": [
      "ANNarchy 4.6 (4.6.7b) on linux (posix). \n"
     ]
    }
   ],
   "source": [
    "from ANNarchy import *\n",
    "clear()"
   ]
  },
  {
   "cell_type": "markdown",
   "metadata": {},
   "source": [
    "If you want to run the simulation on your graphic card instead of CPU, simply uncomment the following line: "
   ]
  },
  {
   "cell_type": "code",
   "execution_count": 2,
   "metadata": {
    "collapsed": false
   },
   "outputs": [],
   "source": [
    "#setup(paradigm=\"cuda\")"
   ]
  },
  {
   "cell_type": "markdown",
   "metadata": {},
   "source": [
    "The `setup()` method allows to configure ANNarchy to run in different modes, such as chosing the parallel framework (omp or cuda), setting the simulation step `dt`, the numerical method `method` or the `seed` of the random number generators."
   ]
  },
  {
   "cell_type": "markdown",
   "metadata": {},
   "source": [
    "## Defining the neurons"
   ]
  },
  {
   "cell_type": "markdown",
   "metadata": {},
   "source": [
    "### Input neuron"
   ]
  },
  {
   "cell_type": "code",
   "execution_count": 3,
   "metadata": {
    "collapsed": false
   },
   "outputs": [],
   "source": [
    "InputNeuron = Neuron(   \n",
    "    parameters=\"\"\"\n",
    "        baseline = 0.0\n",
    "    \"\"\",\n",
    "    equations=\"\"\"\n",
    "        r = pos(baseline + Uniform(-0.5, 0.5))\n",
    "    \"\"\" \n",
    ")"
   ]
  },
  {
   "cell_type": "markdown",
   "metadata": {},
   "source": [
    "Defining the input neuron is straightforward. `InputNeuron` is here an instance of `Neuron`, whose only parameter is\n",
    "`baseline` (initialized to 0.0, but it does not matter here as it will be set externally). \n",
    "\n",
    "The firing rate of each neuron, `r`, is updated at every time step as the positive part (`pos()`) of the sum of the baseline and a random number taken from a uniform distribution between\n",
    "-0.5 and 0.5."
   ]
  },
  {
   "cell_type": "markdown",
   "metadata": {},
   "source": [
    "### Neural Field neuron"
   ]
  },
  {
   "cell_type": "code",
   "execution_count": 4,
   "metadata": {
    "collapsed": false
   },
   "outputs": [],
   "source": [
    "NeuralFieldNeuron = Neuron(\n",
    "    parameters=\"\"\" \n",
    "        tau = 10.0 : population\n",
    "    \"\"\",\n",
    "    equations=\"\"\"\n",
    "        tau * dr/dt + r = sum(exc) + sum(inh) + Uniform(-0.5, 0.5) : min=0.0, max=1.0\n",
    "    \"\"\"\n",
    ")"
   ]
  },
  {
   "cell_type": "markdown",
   "metadata": {},
   "source": [
    "The second neuron we need is a bit more complex, as it is governed by an\n",
    "ODE and considers inputs from other neurons. It also has a non-linear\n",
    "activation function, which is linear when the firing rate is\n",
    "between 0.0 and 1.0, and constant otherwise."
   ]
  },
  {
   "cell_type": "markdown",
   "metadata": {},
   "source": [
    "`tau` is a population-wise parameter, whose value will be the same for\n",
    "all neuron of the population. \n",
    "\n",
    "`r` is the firing rate of he neuron, whose dynamics are governed by a first-order linear ODE, integrating the sums of excitatory and inhibitory inputs with noise. \n",
    "\n",
    "As explained in the manual for rate-coded neurons, `sum(exc)` retrieves the weighted sum of pre-synaptic firing rates for the synapses having the connection type `exc`, here the one\\_to\\_one connections between `inp` and `focus`. `sum(inh)` does the same for `inh` type connections, here the lateral connections within `focus`.\n",
    "\n",
    "The firing rate is restricted to the range [0, 1] by setting the `min` and `max` accordingly in the flags section (everything after the `:`). This means that after evaluating the ODE and getting a new value for `r`, its value will be clamped if it outside these values. One can define both `min` and `max`, only one, or none.  "
   ]
  },
  {
   "cell_type": "markdown",
   "metadata": {},
   "source": [
    "## Creating the populations"
   ]
  },
  {
   "cell_type": "markdown",
   "metadata": {},
   "source": [
    "The two populations have a geometry of (20, 20), therefore 400 neurons\n",
    "each. They are created simply by instantiating the `Population` class:"
   ]
  },
  {
   "cell_type": "code",
   "execution_count": 5,
   "metadata": {
    "collapsed": false
   },
   "outputs": [],
   "source": [
    "N = 20\n",
    "inp = Population(geometry = (N, N), neuron = InputNeuron, name='Input')\n",
    "focus = Population(geometry = (N, N), neuron = NeuralFieldNeuron, name='Focus')"
   ]
  },
  {
   "cell_type": "markdown",
   "metadata": {},
   "source": [
    "The populations can be assigned a unique name (here 'Input' and\n",
    "'Focus') in order to be be able to retrieve them if the references\n",
    "`inp` and `focus` are lost. They are given a 2D geometry and\n",
    "associated to the corresponding `Neuron` instance."
   ]
  },
  {
   "cell_type": "markdown",
   "metadata": {},
   "source": [
    "## Creating the projections"
   ]
  },
  {
   "cell_type": "markdown",
   "metadata": {},
   "source": [
    "The first projection is a one-to-one projection from Input to Focus with\n",
    "the type 'exc'. This connection pattern pattern is possible because the\n",
    "two populations have the same geometry. The weights are initialized to\n",
    "1.0, and this value will not change with time (no learning), so it is\n",
    "not necessary to define a synapse type:"
   ]
  },
  {
   "cell_type": "code",
   "execution_count": 6,
   "metadata": {
    "collapsed": false
   },
   "outputs": [
    {
     "data": {
      "text/plain": [
       "<ANNarchy.core.Projection.Projection at 0x7f1dcc47eb70>"
      ]
     },
     "execution_count": 6,
     "metadata": {},
     "output_type": "execute_result"
    }
   ],
   "source": [
    "ff = Projection(pre=inp, post=focus, target='exc')\n",
    "ff.connect_one_to_one(weights=1.0, delays = 20.0)"
   ]
  },
  {
   "cell_type": "markdown",
   "metadata": {},
   "source": [
    "The references to the pre- and post-synaptic population (or their\n",
    "names), as well as the target type, are passed to the constructor of\n",
    "`Projection`. The connector method `connect_one_to_one()` is immediately\n",
    "applied to the Projection, defining how many synapses will be created.\n",
    "The weights are initialized uniformly to 1.0.\n",
    "\n",
    "The second projection is a difference of gaussians (DoG) for the lateral\n",
    "connections within 'focus'. The connector method is already provided by\n",
    "ANNarchy, so there is nothing more to do than to call it with the right\n",
    "parameters:"
   ]
  },
  {
   "cell_type": "code",
   "execution_count": 7,
   "metadata": {
    "collapsed": false
   },
   "outputs": [
    {
     "data": {
      "text/plain": [
       "<ANNarchy.core.Projection.Projection at 0x7f1d95a0b748>"
      ]
     },
     "execution_count": 7,
     "metadata": {},
     "output_type": "execute_result"
    }
   ],
   "source": [
    "lat = Projection(pre=focus, post=focus, target='inh')\n",
    "lat.connect_dog(amp_pos=0.2, sigma_pos=0.1, amp_neg=0.1, sigma_neg=0.7)"
   ]
  },
  {
   "cell_type": "markdown",
   "metadata": {},
   "source": [
    "## Compiling the network and simulating"
   ]
  },
  {
   "cell_type": "markdown",
   "metadata": {},
   "source": [
    "Once the populations and projections are created, the network is ready to be generated, compiled and simulated. Compilation is simply done by calling `compile()`:"
   ]
  },
  {
   "cell_type": "code",
   "execution_count": 8,
   "metadata": {
    "collapsed": false
   },
   "outputs": [
    {
     "name": "stdout",
     "output_type": "stream",
     "text": [
      "WARNING: unrecognized arguments: ['-f', '/run/user/1000/jupyter/kernel-4d8e797a-63d8-48d3-a2d7-e0477d0e83f9.json'] \n",
      "Compiling... \n",
      "OK \n"
     ]
    }
   ],
   "source": [
    "compile()"
   ]
  },
  {
   "cell_type": "markdown",
   "metadata": {},
   "source": [
    "This generates optimized C++ code from the neurons' definition and\n",
    "network structure, compiles it with gcc/clang and instantiates all objects,\n",
    "particularly the synapses. If some errors were made in the neuron\n",
    "definition, they will be signaled at this point.\n",
    "\n",
    "**Hint:** The call to `compile()` is mandatory in any script. After it is called, populations and projections can not be added anymore.\n",
    "\n",
    "Once the compilation is successful, the network can be simulated by\n",
    "calling `simulate()`:\n",
    "\n",
    "```python\n",
    "simulate(1000.0) # simulate for 1 second\n",
    "```\n",
    "\n",
    "As no input has been fed into the network, calling `simulate()` now\n",
    "won't lead to anything interesting. The next step is to clamp inputs\n",
    "into the input population's baseline."
   ]
  },
  {
   "cell_type": "markdown",
   "metadata": {},
   "source": [
    "## Setting inputs"
   ]
  },
  {
   "cell_type": "markdown",
   "metadata": {},
   "source": [
    "### Pure Python approach"
   ]
  },
  {
   "cell_type": "markdown",
   "metadata": {},
   "source": [
    "In this example, we consider as input a moving bubble of activity\n",
    "rotating along a circle in the input space in 5 seconds. A naive way of\n",
    "setting such inputs would be to access population attributes (namely\n",
    "`inp.baseline`) in a tight loop in Python:\n",
    "\n",
    "\n",
    "```python\n",
    "angle = 0.0\n",
    "x, y = np.meshgrid(np.linspace(0, 19, 20), np.linspace(0, 19, 20))\n",
    "\n",
    "# Main loop\n",
    "while True:\n",
    "    # Update the angle\n",
    "    angle += 1.0/5000.0\n",
    "    # Compute the center of the bubble\n",
    "    cx = 10.0 * ( 1.0 + 0.5 * np.cos(2.0 * np.pi * angle ) )\n",
    "    cy = 10.0 * ( 1.0 + 0.5 * np.sin(2.0 * np.pi * angle ) )\n",
    "    # Clamp the bubble into pop.baseline\n",
    "    inp.baseline = (np.exp(-((x-cx)**2 + (y-cy)**2)/8.0))\n",
    "    # Simulate for 1 ms\n",
    "    step()  \n",
    "```\n",
    "\n",
    "`angle` represents the angle made by the bubble with respect to the\n",
    "center of the input population. `x` and `y` are Numpy arrays\n",
    "representing the X- and Y- coordinates of neurons in the input\n",
    "population. At each iteration of the simulation (i.e. every millisecond\n",
    "of simulation, the bubble is slightly rotated (`angle` is incremented)\n",
    "so as to make a complete revolution in 5 seconds (5000 steps). `cx` and\n",
    "`cy` represent the coordinates of the center of the bubble in neural\n",
    "coordinates according to the new value of the angle.\n",
    "\n",
    "A Gaussian profile (in the form of a Numpy array) is then clamped into\n",
    "the baseline of `inp` using the distance between each neuron of the\n",
    "population (`x` and `y`) and the center of the bubble. Last, a single\n",
    "simulation step is performed using `step()`, before the whole process\n",
    "starts again until the user quits. `step()` is equivalent to\n",
    "`simulate(1)`, although a little bit faster as it does not check anything.\n",
    "\n",
    "Although this approach works, you would observe that it is very slow:\n",
    "the computation of the bubble and its feeding into `InputPop` takes much\n",
    "more time than the call to `step()`. The interest of using a parallel\n",
    "simulator disappears. This is due to the fact that Python is knowingly\n",
    "bad at performing tight loops because of its interpreted nature. If the\n",
    "`while` loop were compiled from C code, the computation would be much\n",
    "more efficient. This is what Cython brings you."
   ]
  },
  {
   "cell_type": "markdown",
   "metadata": {},
   "source": [
    "### Cython approach"
   ]
  },
  {
   "cell_type": "markdown",
   "metadata": {},
   "source": [
    "**Generalities on Cython**\n",
    "\n",
    "The Cython approach requires to write Cython-specific code in a `.pyx`\n",
    "file, generate the corresponding C code with Python access methods,\n",
    "compile it and later import it into your Python code.\n",
    "\n",
    "Happily, the Cython syntax is very close to Python. In the most basic approach, it is simply Python code with a couple of type declarations. Instead of:\n",
    "\n",
    "```cython\n",
    "bar = 1\n",
    "foo = np.ones((10, 10))\n",
    "```\n",
    "\n",
    "you would write in Cython:\n",
    "\n",
    "```cython\n",
    "cdef int bar = 1\n",
    "cdef np.ndarray foo = np.ones((10, 10))\n",
    "```\n",
    "\n",
    "By specifing the type of a variable (which can not be changed later\n",
    "contrary to Python), you help Cython generate optimized C code, what can\n",
    "lead in some cases to speedups up to 100x. The rest of the syntax\n",
    "(indentation, for loops, if...) is the same as in Python. \n",
    "\n",
    "You can als import any Python module in your Cython code. Some modules (importantly\n",
    "Numpy) even provide a Cython interface where the equivalent Cython code\n",
    "can be directly imported (so it becomes very fast to use).\n",
    "\n",
    "The whole compilation procedure is very easy. One particularly simple approach is to use the `pyximport` module shipped with Cython. Let us suppose you wrote a `dummy()` method in a Cython file named `TestModule.pyx`. All you need to use this method in your python code is to write:\n",
    "\n",
    "```python\n",
    "import pyximport; pyximport.install()\n",
    "from TestModule import dummy\n",
    "dummy()\n",
    "```\n",
    "\n",
    "`pyximport` takes care of the compilation process (but emits quite a lot\n",
    "of warnings that can be ignored), and allows to import `TestModule` as if it were a regular\n",
    "Python module. Please refer to the [Cython\n",
    "documentation](http://docs.cython.org) to know more.\n"
   ]
  },
  {
   "cell_type": "markdown",
   "metadata": {},
   "source": [
    "**Moving bubbles in Cython**\n",
    "\n",
    "The file `BubbleWorld.pyx` defines a `World` class able to rotate the bubble\n",
    "for a specified duration.\n",
    "\n",
    "```cython\n",
    "import numpy as np\n",
    "cimport numpy as np\n",
    "```\n",
    "\n",
    "At the beginning of the file, numpy is imported once as a normal Python\n",
    "module with `import`, and once as a Cython module with `cimport`. This\n",
    "allows our Cython module to access directly the internal representations\n",
    "of Numpy without going through the Python interpreter. \n",
    "\n",
    "We can then define a `World` class taking as parameters:\n",
    "\n",
    "-   the population which will be used as input (here `Input`),\n",
    "-   several arguments such as `radius`, `sigma` and `period` which allow\n",
    "    to parameterize the behavior of the rotating bubble,\n",
    "-   `func` which is the Python method that will be called at each time step, i.e.e the `step()` method of ANNarchy.\n",
    "\n",
    "```cython\n",
    "cdef class World:\n",
    "    \" Environment class allowing to clamp a rotating bubble into the baseline of a population.\"\n",
    "    \n",
    "    cdef pop # Input population\n",
    "    cdef func # Function to call\n",
    "\n",
    "    cdef float angle # Current angle\n",
    "    cdef float radius # Radius of the circle \n",
    "    cdef float sigma # Width of the bubble\n",
    "    cdef float period # Number of steps needed to make one revolution\n",
    "\n",
    "    cdef np.ndarray xx, yy # indices\n",
    "    cdef float cx, cy, midw, midh\n",
    "    cdef np.ndarray data \n",
    "    \n",
    "    def __cinit__(self, population, radius, sigma, period, func):\n",
    "        \" Constructor\"\n",
    "        self.pop = population\n",
    "        self.func=func\n",
    "        self.angle = 0.0\n",
    "        self.radius = radius\n",
    "        self.sigma = sigma\n",
    "        self.period = period\n",
    "        cdef np.ndarray x = np.linspace(0, self.pop.geometry[0]-1, self.pop.geometry[0])\n",
    "        cdef np.ndarray y = np.linspace(0, self.pop.geometry[1]-1, self.pop.geometry[1])\n",
    "        self.xx, self.yy = np.meshgrid(x, y)\n",
    "        self.midw = self.pop.geometry[0]/2\n",
    "        self.midh = self.pop.geometry[1]/2\n",
    "    \n",
    "    def rotate(self, int duration):\n",
    "        \" Rotates the bubble for the given duration\"\n",
    "        cdef int t\n",
    "        for t in xrange(duration):\n",
    "            # Update the angle\n",
    "            self.angle += 1.0/self.period\n",
    "            # Compute the center of the bubble\n",
    "            self.cx = self.midw * ( 1.0 + self.radius * np.cos(2.0 * np.pi * self.angle ) )\n",
    "            self.cy = self.midh * ( 1.0 + self.radius * np.sin(2.0 * np.pi * self.angle ) )\n",
    "            # Create the bubble\n",
    "            self.data = (np.exp(-((self.xx-self.cx)**2 + (self.yy-self.cy)**2)/2.0/self.sigma**2))\n",
    "            # Clamp the bubble into pop.baseline\n",
    "            self.pop.baseline = self.data\n",
    "            # Simulate for 1 step\n",
    "            self.func()  \n",
    "```\n",
    "\n",
    "Although this tutorial won't go into much detail, you can note the\n",
    "following:\n",
    "\n",
    "-   The data given to or initialized in the constructor are previously\n",
    "    declared (with their type) as attributes of the class. This way,\n",
    "    Cython knows at the compilation time which operations are possible\n",
    "    on them, which amount of memory to allocate and so on, resulting in\n",
    "    a more efficient implementation.\n",
    "-   The input population (`self.pop`) can be accessed as a normal\n",
    "    Python object. In particular, self.pop.geometry is used in the\n",
    "    constructor to initialize the meshgrid.\n",
    "-   The method `rotate()` performs the simulation for the given duration\n",
    "    (in steps, not milliseconds). Its content is relatively similar to\n",
    "    the Python version.\n"
   ]
  },
  {
   "cell_type": "markdown",
   "metadata": {},
   "source": [
    "**Running the simulation**\n",
    "\n",
    "Once the environment has been defined, the simulation can be executed.\n",
    "The following code, to be placed after the network definition, performs\n",
    "a simulation of the network, taking inputs from `BubbleWorld.pyx`,\n",
    "during 2 seconds:"
   ]
  },
  {
   "cell_type": "code",
   "execution_count": 9,
   "metadata": {
    "collapsed": false
   },
   "outputs": [],
   "source": [
    "# Create the environment\n",
    "import pyximport; pyximport.install(setup_args={'include_dirs': np.get_include()})\n",
    "from BubbleWorld import World\n",
    "world = World(population=inp, radius=0.5, sigma=2.0, period=5000.0, func=step)\n",
    "\n",
    "# Simulate for 2 seconds with inputs\n",
    "world.rotate(2000)"
   ]
  },
  {
   "cell_type": "markdown",
   "metadata": {},
   "source": [
    "### Visualizing the network"
   ]
  },
  {
   "cell_type": "markdown",
   "metadata": {},
   "source": [
    "The preceding code performs correctly the intended simulation, but\n",
    "nothing is visualized. The user has all freedom to visualize his network\n",
    "the way he prefers (for example through animated Matplotlib figures):"
   ]
  },
  {
   "cell_type": "code",
   "execution_count": 11,
   "metadata": {
    "collapsed": false
   },
   "outputs": [
    {
     "data": {
      "image/png": "[encoded data removed]",
      "text/plain": [
       "<Figure size 1440x720 with 2 Axes>"
      ]
     },
     "metadata": {
      "needs_background": "light"
     },
     "output_type": "display_data"
    }
   ],
   "source": [
    "% matplotlib inline\n",
    "import matplotlib\n",
    "import matplotlib.pyplot as plt\n",
    "matplotlib.rcParams['figure.figsize'] = (20.0, 10.0)\n",
    "\n",
    "plt.subplot(121)\n",
    "plt.imshow(inp.r, interpolation='nearest', cmap=plt.cm.gray)\n",
    "plt.subplot(122)\n",
    "plt.imshow(focus.r, interpolation='nearest', cmap=plt.cm.gray)\n",
    "plt.show()"
   ]
  },
  {
   "cell_type": "markdown",
   "metadata": {},
   "source": [
    "However, Matplotlib animations are rather slow, and visualizing the network at each time step would take more time than running the simulation. The provided example takes advantage of the PyQtGraph library (www.pyqtgraph.org) to visualize efficiently activity in the network using OpenGL.\n",
    "\n",
    "The following class and method is defined in `Viz.py`:\n",
    "\n",
    "```python\n",
    "# Visualizer using PyQtGraph\n",
    "try:\n",
    "    from pyqtgraph.Qt import QtGui, QtCore\n",
    "    import pyqtgraph as pg\n",
    "except:\n",
    "    print('PyQtGraph is not installed on your system, can not visualize the network.')\n",
    "    exit(0)\n",
    "try:\n",
    "    import pyqtgraph.opengl as gl\n",
    "except:\n",
    "    print('OpenGL is not installed on your system, can not visualize the network.')\n",
    "    exit(0)\n",
    "\n",
    "import numpy as np\n",
    "\n",
    "class GLViewer(object):\n",
    "    \" Class to visualize the network activity using PyQtGraph and openGL.\"\n",
    "    def __init__(self, populations, func, update_rate): \n",
    "        # Parameters   \n",
    "        self.populations = populations\n",
    "        self.func = func    \n",
    "        self.update_rate = update_rate\n",
    "        # Window\n",
    "        self.win = gl.GLViewWidget()\n",
    "        self.win.show()\n",
    "        self.win.setCameraPosition(distance=40)\n",
    "        # Prepare the plots\n",
    "        self.plots = []\n",
    "        shift = 0\n",
    "        for pop in self.populations: \n",
    "            p = gl.GLSurfacePlotItem(\n",
    "                x = np.linspace(0, pop.geometry[0]-1, pop.geometry[0]), \n",
    "                y = np.linspace(0, pop.geometry[1]-1, pop.geometry[1]), \n",
    "                shader='heightColor', \n",
    "                computeNormals=False, \n",
    "                smooth=False\n",
    "            )\n",
    "            p.translate(shift, -10, -1)\n",
    "            self.win.addItem(p)\n",
    "            self.plots.append(p)\n",
    "            shift -= 25\n",
    "\n",
    "    def scale(self, data):\n",
    "        \" Colors are shown in the range [-1, 1] per default.\"\n",
    "        return 1.8 * data -0.9\n",
    "\n",
    "    def update(self):\n",
    "        \"Callback\"\n",
    "        # Simulate for 200ms\n",
    "        self.func(self.update_rate)     \n",
    "        # Refresh the GUI\n",
    "        for i in range(len(self.populations)):\n",
    "            self.plots[i].setData(z=self.scale(self.populations[i].r)) \n",
    "        # Listen to mouse/keyboard events\n",
    "        QtGui.QApplication.processEvents()\n",
    "\n",
    "    def run(self):\n",
    "        \"Inifinite loop\"\n",
    "        timer = QtCore.QTimer()\n",
    "        timer.timeout.connect(self.update)\n",
    "        timer.start(0)  \n",
    "        QtGui.QApplication.instance().exec_() \n",
    "\n",
    "\n",
    "def loop_bubbles(populations, func, update_rate):\n",
    "    \"Launches the GL GUI and rotates the bubble infinitely.\"\n",
    "    # Create the GUI using PyQtGraph\n",
    "    app = QtGui.QApplication([])\n",
    "    viewer = GLViewer(populations, func, update_rate)\n",
    "    # Start the simulation forever          \n",
    "    viewer.run()\n",
    "```\n",
    "\n",
    "We leave out again the details about this class (please look at the\n",
    "examples and tutorials on the PyQtGraph website to understand it). It\n",
    "allows to open a PyQtGraph window and display the firing rate of both\n",
    "`Input` and `Focus` populations using OpenGL. The `run()` method is an endless loop calling regularly the\n",
    "`update()` method.\n",
    "\n",
    "The `update()` method calls first `World.rotate(200)` and waits for its\n",
    "completion before reactualizing the display. The reason is that\n",
    "refreshing the display can only be done sequentially with the\n",
    "simulation, and calling it too often would impair the simulation time.\n",
    "\n",
    "Once this class has been defined, the simulation can be run endlessly by importing the `Viz` module:"
   ]
  },
  {
   "cell_type": "code",
   "execution_count": 12,
   "metadata": {
    "collapsed": false
   },
   "outputs": [],
   "source": [
    "# Launch the GUI and run the simulation\n",
    "from Viz import loop_bubbles\n",
    "loop_bubbles(populations = [inp, focus], func=world.rotate, update_rate=200)"
   ]
  },
  {
   "cell_type": "code",
   "execution_count": null,
   "metadata": {
    "collapsed": false
   },
   "outputs": [],
   "source": []
  }
 ],
 "metadata": {
  "kernelspec": {
   "display_name": "Python 3",
   "language": "python",
   "name": "python3"
  },
  "language_info": {
   "codemirror_mode": {
    "name": "ipython",
    "version": 3
   },
   "file_extension": ".py",
   "mimetype": "text/x-python",
   "name": "python",
   "nbconvert_exporter": "python",
   "pygments_lexer": "ipython3",
   "version": "3.7.0"
  }
 },
 "nbformat": 4,
 "nbformat_minor": 2
}
