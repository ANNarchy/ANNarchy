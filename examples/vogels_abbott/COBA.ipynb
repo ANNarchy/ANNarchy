{
 "metadata": {
  "name": ""
 },
 "nbformat": 3,
 "nbformat_minor": 0,
 "worksheets": [
  {
   "cells": [
    {
     "cell_type": "heading",
     "level": 1,
     "metadata": {},
     "source": [
      "COBA and CUBA networks"
     ]
    },
    {
     "cell_type": "markdown",
     "metadata": {},
     "source": [
      "The scripts ``COBA.py`` and ``CUBA.py``  in ``examples/vogels_abbott`` reproduce the two first benchmarks used in:\n",
      "\n",
      "**Brette, R., Rudolph, M., Carnevale, T., Hines, M., Beeman, D., Bower, J. M., et al.** (2007), Simulation of networks of spiking neurons: a review of tools and strategies., *J. Comput. Neurosci., 23, 3, 349\u201398*\n",
      "\n",
      "Both are based on the balanced network proposed by: \n",
      "\n",
      "**Vogels, T. P. and Abbott, L. F.** (2005), Signal propagation and logic gating in networks of integrate-and-fire neurons., *J. Neurosci., 25, 46, 10786\u201395*\n",
      "\n",
      "The network is composed of 4000 neurons (3200 excitatory and 800 inhibitory), reciprocally connected with a probability of 0.02 (sparse connection).\n",
      "\n",
      "The CUBA network uses a current-based integrate-and-fire neuron model:\n",
      "\n",
      "$$\\tau \\cdot \\frac{dv (t)}{dt} = E_l - v(t) + g_\\text{exc} (t) - g_\\text{inh} (t)$$\n",
      "\n",
      "while the COBA model uses conductance-based IF neurons:\n",
      "\n",
      "$$\\tau \\cdot \\frac{dv (t)}{dt} = E_l - v(t) + g_\\text{exc} (t) * (E_\\text{exc}) - v(t)) + g_\\text{inh} (t) * (E_\\text{inh}) - v(t)) + I(t)$$\n",
      "    \n",
      "Apart from the neuron model and synaptic weights, both networks are equal, so we'll focus on the COBA network here."
     ]
    },
    {
     "cell_type": "markdown",
     "metadata": {},
     "source": [
      "The discretization step has to be set to 0.1 ms:"
     ]
    },
    {
     "cell_type": "code",
     "collapsed": false,
     "input": [
      "from ANNarchy import * \n",
      "setup(dt=0.1) "
     ],
     "language": "python",
     "metadata": {},
     "outputs": [
      {
       "output_type": "stream",
       "stream": "stdout",
       "text": [
        "ANNarchy 4.5 (4.5.5beta) on linux2 (posix). \n"
       ]
      }
     ],
     "prompt_number": 1
    },
    {
     "cell_type": "heading",
     "level": 2,
     "metadata": {},
     "source": [
      "Neuron definition"
     ]
    },
    {
     "cell_type": "code",
     "collapsed": false,
     "input": [
      "COBA = Neuron(\n",
      "    parameters=\"\"\"\n",
      "        El = -60.0          : population\n",
      "        Vr = -60.0          : population\n",
      "        Erev_exc = 0.0      : population\n",
      "        Erev_inh = -80.0    : population\n",
      "        Vt = -50.0          : population\n",
      "        tau = 20.0          : population\n",
      "        tau_exc = 5.0       : population\n",
      "        tau_inh = 10.0      : population\n",
      "        I = 20.0            : population\n",
      "    \"\"\",\n",
      "    equations=\"\"\"\n",
      "        tau * dv/dt = (El - v) + g_exc * (Erev_exc - v) + g_inh * (Erev_inh - v ) + I\n",
      "\n",
      "        tau_exc * dg_exc/dt = - g_exc\n",
      "        tau_inh * dg_inh/dt = - g_inh\n",
      "    \"\"\",\n",
      "    spike = \"v > Vt\",\n",
      "    reset = \"v = Vr\",\n",
      "    refractory = 5.0\n",
      ")"
     ],
     "language": "python",
     "metadata": {},
     "outputs": [],
     "prompt_number": 2
    },
    {
     "cell_type": "code",
     "collapsed": false,
     "input": [
      "CUBA = Neuron(\n",
      "    parameters=\"\"\"\n",
      "        El = -49.0      : population\n",
      "        Vr = -60.0      : population\n",
      "        Vt = -50.0      : population\n",
      "        tau_m = 20.0    : population\n",
      "        tau_exc = 5.0   : population\n",
      "        tau_inh = 10.0  : population\n",
      "    \"\"\",\n",
      "    equations=\"\"\"\n",
      "        tau_m * dv/dt = (El - v) + g_exc + g_inh \n",
      "\n",
      "        tau_exc * dg_exc/dt = - g_exc \n",
      "        tau_inh * dg_inh/dt = - g_inh \n",
      "    \"\"\",\n",
      "    spike = \"v > Vt\",\n",
      "    reset = \"v = Vr\",\n",
      "    refractory = 5.0\n",
      ")"
     ],
     "language": "python",
     "metadata": {},
     "outputs": [],
     "prompt_number": 3
    },
    {
     "cell_type": "markdown",
     "metadata": {},
     "source": [
      "The neurons define exponentially-decreasing conductance g_exc and g_inh for the excitatory and inhibitory conductances/currents, respectively.\n",
      "\n",
      "They also define a refractory period of 5 ms."
     ]
    },
    {
     "cell_type": "heading",
     "level": 2,
     "metadata": {},
     "source": [
      "Population"
     ]
    },
    {
     "cell_type": "code",
     "collapsed": false,
     "input": [
      "P = Population(geometry=4000, neuron=COBA)\n",
      "Pe = P[:3200]\n",
      "Pi = P[3200:]"
     ],
     "language": "python",
     "metadata": {},
     "outputs": [],
     "prompt_number": 4
    },
    {
     "cell_type": "markdown",
     "metadata": {},
     "source": [
      "We create a population of 4000 COBA neurons, and assign the 3200 first ones to the excitatory population and the 800 last ones to the inhibitory population.\n",
      "\n",
      "It would have been equivalent to declare two separate populations as:\n",
      "\n",
      "~~~{.python}\n",
      "Pe = Population(geometry=3200, neuron=COBA)}\n",
      "Pi = Population(geometry= 800, neuron=COBA)\n",
      "~~~\n",
      "\n",
      "but splitting a global population allows to apply methods to all neurons, for example when recording all spikes with a single monitor, or when initializing populations parameters uniformly:"
     ]
    },
    {
     "cell_type": "code",
     "collapsed": false,
     "input": [
      "P.v = Normal(-55.0, 5.0)\n",
      "P.g_exc = Normal(4.0, 1.5)\n",
      "P.g_inh = Normal(20.0, 12.0)"
     ],
     "language": "python",
     "metadata": {},
     "outputs": [],
     "prompt_number": 5
    },
    {
     "cell_type": "heading",
     "level": 2,
     "metadata": {},
     "source": [
      "Connections"
     ]
    },
    {
     "cell_type": "markdown",
     "metadata": {},
     "source": [
      "The neurons are randomly connected with a probability of 0.02. Excitatory neurons project on all other neurons with the target \"exc\" and a weight of 0.6, while the inhibitory neurons have the target \"inh\" and a weight of 6.7."
     ]
    },
    {
     "cell_type": "code",
     "collapsed": false,
     "input": [
      "Ce = Projection(pre=Pe, post=P, target='exc')\n",
      "Ce.connect_fixed_probability(weights=0.6, probability=0.02)\n",
      "\n",
      "Ci = Projection(pre=Pi, post=P, target='inh')\n",
      "Ci.connect_fixed_probability(weights=6.7, probability=0.02)\n"
     ],
     "language": "python",
     "metadata": {},
     "outputs": [
      {
       "metadata": {},
       "output_type": "pyout",
       "prompt_number": 6,
       "text": [
        "<ANNarchy.core.Projection.Projection at 0x7fa0f2897f50>"
       ]
      }
     ],
     "prompt_number": 6
    },
    {
     "cell_type": "code",
     "collapsed": false,
     "input": [
      "compile()"
     ],
     "language": "python",
     "metadata": {},
     "outputs": [
      {
       "output_type": "stream",
       "stream": "stdout",
       "text": [
        "Compiling... \n",
        "OK "
       ]
      },
      {
       "output_type": "stream",
       "stream": "stdout",
       "text": [
        "\n"
       ]
      }
     ],
     "prompt_number": 7
    },
    {
     "cell_type": "heading",
     "level": 2,
     "metadata": {},
     "source": [
      "Simulation"
     ]
    },
    {
     "cell_type": "markdown",
     "metadata": {},
     "source": [
      "We first define a monitor to record the spikes emitted in the whole population:"
     ]
    },
    {
     "cell_type": "code",
     "collapsed": false,
     "input": [
      "m = Monitor(P, ['spike'])"
     ],
     "language": "python",
     "metadata": {},
     "outputs": [],
     "prompt_number": 8
    },
    {
     "cell_type": "markdown",
     "metadata": {},
     "source": [
      "We can then simulate for 1 second:"
     ]
    },
    {
     "cell_type": "code",
     "collapsed": false,
     "input": [
      "simulate(1000.)"
     ],
     "language": "python",
     "metadata": {},
     "outputs": [],
     "prompt_number": 9
    },
    {
     "cell_type": "markdown",
     "metadata": {},
     "source": [
      "We retrieve the recorded spikes from the monitor:"
     ]
    },
    {
     "cell_type": "code",
     "collapsed": false,
     "input": [
      "data = m.get('spike')"
     ],
     "language": "python",
     "metadata": {},
     "outputs": [],
     "prompt_number": 10
    },
    {
     "cell_type": "markdown",
     "metadata": {},
     "source": [
      "and compute a raster plot from the data:"
     ]
    },
    {
     "cell_type": "code",
     "collapsed": false,
     "input": [
      "t, n = m.raster_plot(data)"
     ],
     "language": "python",
     "metadata": {},
     "outputs": [],
     "prompt_number": 11
    },
    {
     "cell_type": "markdown",
     "metadata": {},
     "source": [
      "`t` and `n` are lists representing for each spike emitted during the simulation the time at which it was emitted and the index the neuron whiich fired. The length of this list represents the total number of spikes in the popultion, so we can compute the population mean firing rate:"
     ]
    },
    {
     "cell_type": "code",
     "collapsed": false,
     "input": [
      "print('Mean firing rate in the population: ' + str(len(t) / 4000.) + 'Hz')"
     ],
     "language": "python",
     "metadata": {},
     "outputs": [
      {
       "output_type": "stream",
       "stream": "stdout",
       "text": [
        "Mean firing rate in the population: 21.07325Hz\n"
       ]
      }
     ],
     "prompt_number": 12
    },
    {
     "cell_type": "markdown",
     "metadata": {},
     "source": [
      "Finally, we can show the raster plot with pylab:"
     ]
    },
    {
     "cell_type": "code",
     "collapsed": false,
     "input": [
      "%pylab inline  --no-import-all\n",
      "from pylab import *\n",
      "plot(t, n, '.')\n",
      "xlabel('Time (ms)')\n",
      "ylabel('# neuron')\n",
      "show()"
     ],
     "language": "python",
     "metadata": {},
     "outputs": [
      {
       "output_type": "stream",
       "stream": "stdout",
       "text": [
        "Populating the interactive namespace from numpy and matplotlib\n"
       ]
      },
      {
       "metadata": {},
       "output_type": "display_data",
       "png": "[encoded data removed]",
       "text": [
        "<matplotlib.figure.Figure at 0x7fa0f1d2a0d0>"
       ]
      }
     ],
     "prompt_number": 13
    },
    {
     "cell_type": "code",
     "collapsed": false,
     "input": [],
     "language": "python",
     "metadata": {},
     "outputs": [],
     "prompt_number": 13
    }
   ],
   "metadata": {}
  }
 ]
}