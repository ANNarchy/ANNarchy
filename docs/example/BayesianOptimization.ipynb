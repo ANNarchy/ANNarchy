{
 "cells": [
  {
   "cell_type": "markdown",
   "metadata": {},
   "source": [
    "# Hyperparameter optimization of an ANNarchy model\n",
    "\n",
    "Most of the work in computational neuroscience is to guess the values of parameters which are not constrained by the biology. The most basic approach is to simply try out different values, run the simulation, reason about why the results are not what you want, change some parameters, run again, etc. It is very easy to get lost in this process and it requires a great deal of intuition about how the model works.\n",
    "\n",
    "If you are able to define an objective function for your model (a single number that tells how well your model performs), you can use search algorithms to find this hyperparameters automatically, at the cost of running your model multiple times.\n",
    "\n",
    "Let's take the example of a rate-coded model depending on two hyperparameters `a` and `b`, where is the objective is to have a minimal activity after 1 s of simulation (dummy example):\n",
    "\n",
    "```python\n",
    "from ANNarchy import *\n",
    "\n",
    "pop = Population(...)\n",
    "...\n",
    "compile()\n",
    "\n",
    "def run(a, b):\n",
    "    pop.a = a\n",
    "    pop.b = b\n",
    "    \n",
    "    simulate(1000.)\n",
    "    \n",
    "    return (pop.r)**2\n",
    "```\n",
    "\n",
    "**Grid search** would iterate over all possible values of the parameters to perform the search:\n",
    "\n",
    "```python\n",
    "min_loss = 1000.\n",
    "for a in np.linspace(0.0, 1.0, 100):\n",
    "    for b in np.linspace(0.0, 1.0, 100):\n",
    "        loss = run(a, b)\n",
    "        if loss < min_loss:\n",
    "            min_loss = loss\n",
    "            a_best = a ; b_best = b\n",
    "```\n",
    "\n",
    "If you try 100 values for each parameters, you need 10000 simulations to find your parameters. The number of simulations explodes with the number of free parameters. Moreover, you cannot stop the search before the end, as you could miss the interesting region.\n",
    "\n",
    "**Random search** samples blindly values for the hyperparameters:\n",
    "\n",
    "```python\n",
    "min_loss = 1000.\n",
    "for _ in range(1000):\n",
    "    a = np.random.uniform(0.0, 1.0)\n",
    "    b = np.random.uniform(0.0, 1.0)\n",
    "    loss = run(a, b)\n",
    "    if loss < min_loss:\n",
    "        min_loss = loss\n",
    "        a_best = a ; b_best = b\n",
    "```\n",
    "\n",
    "If you are lucky, you may find a good solution quite early in the search, so you can stop it when the loss is below a desired threshold. The main drawback is that the search may spend a lot of time in uninteresting regions: it does not learn anything between two samples.\n",
    "\n",
    "An often much more efficient search method is **Bayesian optimization** (also called sequential model-based optimization - SMBO). It is a form of random search that updates beliefs on the hyperparameters. In short, if some parameter values do not lead to good values of the objective function in early samples, they will not be used in later samples. The search becomes more and more focused on the interesting regions of the hyperparameter space. \n",
    "\n",
    "As always with Python, there are many libraries for that, including:\n",
    "\n",
    "* `hyperopt` <https://github.com/hyperopt/hyperopt>\n",
    "* `optuna` <https://github.com/pfnet/optuna>\n",
    "* `talos` (for keras models) <https://github.com/autonomio/talos>\n",
    "\n",
    "This notebook demonstrates how to use `hyperopt` to find some hyperparameters of the COBA models already included in the ANNarchy examples:\n",
    "\n",
    "<https://annarchy.readthedocs.io/en/stable/example/COBA.html>"
   ]
  },
  {
   "cell_type": "code",
   "execution_count": 1,
   "metadata": {},
   "outputs": [
    {
     "name": "stdout",
     "output_type": "stream",
     "text": [
      "ANNarchy 4.6 (4.6.8b) on linux (posix). \n"
     ]
    }
   ],
   "source": [
    "from ANNarchy import *\n",
    "clear()\n",
    "setup(dt=0.1)"
   ]
  },
  {
   "cell_type": "code",
   "execution_count": 2,
   "metadata": {},
   "outputs": [
    {
     "name": "stdout",
     "output_type": "stream",
     "text": [
      "WARNING: unrecognized arguments: ['-f', '/run/user/1000/jupyter/kernel-fbbc3c8e-0854-48bb-8518-94ceaed6d021.json'] \n",
      "Compiling... \n",
      "OK \n"
     ]
    }
   ],
   "source": [
    "COBA = Neuron(\n",
    "    parameters=\"\"\"\n",
    "        El = -60.0          : population\n",
    "        Vr = -60.0          : population\n",
    "        Erev_exc = 0.0      : population\n",
    "        Erev_inh = -80.0    : population\n",
    "        Vt = -50.0          : population\n",
    "        tau = 20.0          : population\n",
    "        tau_exc = 5.0       : population\n",
    "        tau_inh = 10.0      : population\n",
    "        I = 20.0            : population\n",
    "    \"\"\",\n",
    "    equations=\"\"\"\n",
    "        tau * dv/dt = (El - v) + g_exc * (Erev_exc - v) + g_inh * (Erev_inh - v ) + I\n",
    "\n",
    "        tau_exc * dg_exc/dt = - g_exc\n",
    "        tau_inh * dg_inh/dt = - g_inh\n",
    "    \"\"\",\n",
    "    spike = \"v > Vt\",\n",
    "    reset = \"v = Vr\",\n",
    "    refractory = 5.0\n",
    ")\n",
    "\n",
    "P = Population(geometry=4000, neuron=COBA)\n",
    "Pe = P[:3200]\n",
    "Pi = P[3200:]\n",
    "P.v = Normal(-55.0, 5.0)\n",
    "P.g_exc = Normal(4.0, 1.5)\n",
    "P.g_inh = Normal(20.0, 12.0)\n",
    "\n",
    "Ce = Projection(pre=Pe, post=P, target='exc')\n",
    "Ce.connect_fixed_probability(weights=0.6, probability=0.02)\n",
    "Ci = Projection(pre=Pi, post=P, target='inh')\n",
    "Ci.connect_fixed_probability(weights=6.7, probability=0.02)\n",
    "\n",
    "compile()\n",
    "\n",
    "m = Monitor(P, ['spike'])"
   ]
  },
  {
   "cell_type": "markdown",
   "metadata": {},
   "source": [
    "With the default parameters, the COBA network fires at around 20 Hz:"
   ]
  },
  {
   "cell_type": "code",
   "execution_count": 3,
   "metadata": {},
   "outputs": [
    {
     "name": "stdout",
     "output_type": "stream",
     "text": [
      "21.236999999999995\n"
     ]
    }
   ],
   "source": [
    "simulate(1000.0)\n",
    "data = m.get('spike')\n",
    "fr = m.mean_fr(data)\n",
    "print(fr)"
   ]
  },
  {
   "cell_type": "markdown",
   "metadata": {},
   "source": [
    "Let's suppose we now want the network to fire at 30 Hz. Which parameters should we change to obtain that value?\n",
    "\n",
    "Many parameters might influence the firing rate of the network (if not all). Here, we make the assumption that the weight values for the excitatory connections (0.6) and inhibitory ones (6.7) are the most critical ones.\n",
    "\n",
    "Let's start by importing `hyperopt` (after installing it with `pip install hyperopt`):"
   ]
  },
  {
   "cell_type": "code",
   "execution_count": 4,
   "metadata": {},
   "outputs": [],
   "source": [
    "from hyperopt import fmin, tpe, hp, STATUS_OK"
   ]
  },
  {
   "cell_type": "markdown",
   "metadata": {},
   "source": [
    "We define a `trial()` method taking values for the two hyperparameters as inputs. It starts by resetting the network, sets the excitatory and inhibitory weights to the desired value, simulates for one second, computes the mean firing rate of the population and finally returns the objective function: the squared error between the recorded firing rate and 30 Hz."
   ]
  },
  {
   "cell_type": "code",
   "execution_count": 5,
   "metadata": {},
   "outputs": [],
   "source": [
    "def trial(args):\n",
    "    \n",
    "    # Retrieve the parameters\n",
    "    w_exc = args[0]\n",
    "    w_inh = args[1]\n",
    "    \n",
    "    # Reset the network\n",
    "    reset()\n",
    "    \n",
    "    # Set the hyperparameters\n",
    "    Ce.w = w_exc\n",
    "    Ci.w = w_inh\n",
    "    \n",
    "    # Simulate 1 second\n",
    "    simulate(1000.0)\n",
    "\n",
    "    # Retrieve the spike recordings and the membrane potential\n",
    "    spikes = m.get('spike')\n",
    "\n",
    "    # Compute the population firing rate\n",
    "    fr = m.mean_fr(spikes)\n",
    "    \n",
    "    return {\n",
    "        'loss': (30.0 - fr)**2,\n",
    "        'status': STATUS_OK,\n",
    "        # -- store other results like this\n",
    "        'fr': fr,\n",
    "        }"
   ]
  },
  {
   "cell_type": "markdown",
   "metadata": {},
   "source": [
    "We can check that the default parameters indeed lead to a firing rate of 20 Hz:"
   ]
  },
  {
   "cell_type": "code",
   "execution_count": 6,
   "metadata": {},
   "outputs": [
    {
     "data": {
      "text/plain": [
       "{'loss': 76.79016900000009, 'status': 'ok', 'fr': 21.236999999999995}"
      ]
     },
     "execution_count": 6,
     "metadata": {},
     "output_type": "execute_result"
    }
   ],
   "source": [
    "trial([0.6, 6.7])"
   ]
  },
  {
   "cell_type": "markdown",
   "metadata": {},
   "source": [
    "We can now use `hyperopt` to find the hyperparameters making the network fire at 30 Hz.\n",
    "\n",
    "The `fmin()` function takes:\n",
    "\n",
    "* `fn`: the objective function for a set of parameters.\n",
    "* `space`: the search space for the hyperparameters (the prior). \n",
    "* `algo`: which algorithm to use, either tpe.suggest or random.suggest\n",
    "* `max_evals`: number of samples (simulations) to make.\n",
    "\n",
    "Here, we will sample the excitatory weights between 0.1 and 1, the inhibitory ones between 1 and 10. Of course, the smaller the range, the better. Refer to the doc of hyperopt for other sampling priors."
   ]
  },
  {
   "cell_type": "code",
   "execution_count": 7,
   "metadata": {},
   "outputs": [
    {
     "name": "stdout",
     "output_type": "stream",
     "text": [
      "100%|██████████| 100/100 [00:33<00:00,  3.16it/s, best loss: 0.00018224999999991788]\n",
      "{'w_exc': 0.69122993978078, 'w_inh': 5.847665954819675}\n"
     ]
    }
   ],
   "source": [
    "best = fmin(\n",
    "    fn=trial,\n",
    "    space=[\n",
    "        hp.uniform('w_exc', 0.1, 1.0), \n",
    "        hp.uniform('w_inh', 1.0, 10.0)\n",
    "    ],\n",
    "    algo=tpe.suggest,\n",
    "    max_evals=100)\n",
    "print(best)"
   ]
  },
  {
   "cell_type": "markdown",
   "metadata": {},
   "source": [
    "After 100 simulations, `hyperopt` returns a set of hyperparameter values that make the network fire at 30Hz. We can check that it is true with:"
   ]
  },
  {
   "cell_type": "code",
   "execution_count": 8,
   "metadata": {},
   "outputs": [
    {
     "data": {
      "text/plain": [
       "{'loss': 0.00018224999999991788, 'status': 'ok', 'fr': 30.013499999999997}"
      ]
     },
     "execution_count": 8,
     "metadata": {},
     "output_type": "execute_result"
    }
   ],
   "source": [
    "trial([best['w_exc'], best['w_inh']])"
   ]
  },
  {
   "cell_type": "markdown",
   "metadata": {},
   "source": [
    "There are plenty of options to `hyperopt` (check Trials or the parallel search using MongoDB), but this simple example should get you started. "
   ]
  }
 ],
 "metadata": {
  "kernelspec": {
   "display_name": "Python 3",
   "language": "python",
   "name": "python3"
  },
  "language_info": {
   "codemirror_mode": {
    "name": "ipython",
    "version": 3
   },
   "file_extension": ".py",
   "mimetype": "text/x-python",
   "name": "python",
   "nbconvert_exporter": "python",
   "pygments_lexer": "ipython3",
   "version": "3.7.3"
  }
 },
 "nbformat": 4,
 "nbformat_minor": 2
}
