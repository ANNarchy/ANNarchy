{
 "cells": [
  {
   "cell_type": "markdown",
   "metadata": {},
   "source": [
    "# Jupyter / IPython Notebooks"
   ]
  },
  {
   "cell_type": "markdown",
   "metadata": {},
   "source": [
    "It is possible to use ANNarchy in Jupyter / IPython notebooks. Several examples are provided in the `examples` directory of the source distribution.\n",
    "\n",
    "There is nevertheless one thing to take into account when re-running cells:\n",
    "\n",
    "**ANNarchy uses global variables to store the populations and projections until compile() is called.**\n",
    "\n",
    "Here are the main consequences:\n",
    "\n",
    "1. If you re-run the line `from ANNarchy import *`, Python will not clear the stored populations and projections (by design, as ANNarchy is already cached)\n",
    "\n",
    "2. If you re-run a cell creating a population or projection, it will create a new population, not replace the previous one.\n",
    "\n",
    "3. If you create a new population / projection after a call to `compile()` in the current kernel, this will lead to an error, as the network is already compiled and new objects cannot (yet) be added on the fly."
   ]
  },
  {
   "cell_type": "markdown",
   "metadata": {},
   "source": [
    "The solution to the first problem is to call the `clear()` command right after importing ANNarchy. This deletes all created objects and puts ANNarchy in a *\"clean\"* state:"
   ]
  },
  {
   "cell_type": "code",
   "execution_count": 1,
   "metadata": {
    "collapsed": false
   },
   "outputs": [
    {
     "name": "stdout",
     "output_type": "stream",
     "text": [
      "ANNarchy 4.6 (4.6.0b) on linux (posix). \n"
     ]
    }
   ],
   "source": [
    "from ANNarchy import *\n",
    "clear()"
   ]
  },
  {
   "cell_type": "markdown",
   "metadata": {},
   "source": [
    "Everytime you want to change something to the structure of your network (adding/suppressing a population or projection, changing the size of a population or modifying a connection pattern), you can re-run this cell, as well as all cells defining your network. You will then be able to call `compile()` again.\n",
    "\n",
    "If you only want to change some parameters, you do not need to run this cell."
   ]
  }
 ],
 "metadata": {
  "kernelspec": {
   "display_name": "Python 3",
   "language": "python",
   "name": "python3"
  },
  "language_info": {
   "codemirror_mode": {
    "name": "ipython",
    "version": 3
   },
   "file_extension": ".py",
   "mimetype": "text/x-python",
   "name": "python",
   "nbconvert_exporter": "python",
   "pygments_lexer": "ipython3",
   "version": "3.6.0"
  }
 },
 "nbformat": 4,
 "nbformat_minor": 2
}
